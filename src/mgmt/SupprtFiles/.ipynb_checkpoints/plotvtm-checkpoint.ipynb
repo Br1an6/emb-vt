{
 "cells": [
  {
   "cell_type": "code",
   "execution_count": 67,
   "metadata": {},
   "outputs": [],
   "source": [
    "import re\n",
    "import matplotlib.pyplot as plt\n",
    "import numpy as np\n",
    "from datetime import datetime, timedelta"
   ]
  },
  {
   "cell_type": "code",
   "execution_count": 62,
   "metadata": {},
   "outputs": [
    {
     "name": "stdout",
     "output_type": "stream",
     "text": [
      "<open file 'vtmg_80.log', mode 'r' at 0x105aab9c0>\n",
      "{'date': '2018-03-12 12:38:00', 'text': ' Starting Service ID: #2', 'type': ' root '}\n",
      "{'date': '2018-03-12 12:38:00', 'text': ' Connection Manager Started: 1520876280.305089', 'type': ' root '}\n",
      "{'date': '2018-03-12 12:38:00', 'text': ' Host Activities Started: 1520876280.316050', 'type': ' root '}\n",
      "<open file 'vtmg_189.log', mode 'r' at 0x105aab9c0>\n",
      "{'date': '2018-03-12 12:38:00', 'text': ' Starting Service ID: #1', 'type': ' root '}\n",
      "{'date': '2018-03-12 12:38:00', 'text': ' Connection Manager Started: 1520876280.775960', 'type': ' root '}\n",
      "{'date': '2018-03-12 12:38:00', 'text': ' Host Activities Started: 1520876280.786869', 'type': ' root '}\n"
     ]
    }
   ],
   "source": [
    "def matchDate(line):\n",
    "    matchThis = \"\"\n",
    "    matched = re.match(r'\\d\\d\\d\\d-\\d\\d-\\d\\d\\ \\d\\d:\\d\\d:\\d\\d',line)\n",
    "    if matched:\n",
    "        #matches a date and adds it to matchThis            \n",
    "        matchThis = matched.group() \n",
    "    else:\n",
    "        matchThis = \"NONE\"\n",
    "    return matchThis\n",
    "\n",
    "\n",
    "def generateDicts(log_fh):\n",
    "    \"\"\"\n",
    "    Arg:\n",
    "    log_fh...file\n",
    "    Return:\n",
    "    currentDict..dict\n",
    "    \"\"\"\n",
    "    currentDict = {}\n",
    "    for line in log_fh:\n",
    "        if line.startswith(matchDate(line)):\n",
    "            if currentDict:\n",
    "                yield currentDict\n",
    "            currentDict = {\"date\":line.split(\"__\")[0][:19],\"type\":line.split(\"-\",5)[3],\"text\":line.split(\"-\",5)[-1].rstrip()}\n",
    "        else:\n",
    "            currentDict[\"text\"] += line\n",
    "    yield currentDict\n",
    "\n",
    "\n",
    "vtmfiles = ['vtmg_80.log', 'vtmg_189.log'] # Put vtmg files\n",
    "list_parsed_files = []\n",
    "for i, f in enumerate(vtmfiles):\n",
    "    with open(f) as f:\n",
    "        listNew= list(generateDicts(f)) # list contains dict\n",
    "        print f\n",
    "        print listNew[0] # Start date\n",
    "        print listNew[1] # Start Connection Manager\n",
    "        print listNew[2] # Start Host Activities\n",
    "    list_parsed_files.append(listNew)"
   ]
  },
  {
   "cell_type": "code",
   "execution_count": 86,
   "metadata": {},
   "outputs": [
    {
     "name": "stdout",
     "output_type": "stream",
     "text": [
      " Sample (First file first line):  ['VT-GPIO_TEST:', 'Initializing', 'the', 'Virtual', 'Time', 'GPIO_TEST', 'LKM']\n"
     ]
    }
   ],
   "source": [
    "_datetime_format = \"%Y-%m-%d %H:%M:%S\"\n",
    "_dmesg_line_regex = re.compile(\"^\\[\\s*(?P<time>\\d+\\.\\d+)\\](?P<line>.*)$\")\n",
    "dmgfiles = ['dmesg_80.log', 'dmesg_189.log']\n",
    "\n",
    "list_dmgFiles = [] # list in list\n",
    "\n",
    "for i, f in enumerate(dmgfiles):\n",
    "    with open(f) as dmesg_data:\n",
    "        list_parsedMsg = []\n",
    "        for line in dmesg_data:\n",
    "            if not line:\n",
    "                continue\n",
    "            match = _dmesg_line_regex.match(line)\n",
    "            if match:\n",
    "                try:\n",
    "                    # seconds = int(match.groupdict().get('time', '').split('.')[0])\n",
    "                    #nanoseconds = int(match.groupdict().get('time', '').split('.')[1])\n",
    "                    # microseconds = int(round(nanoseconds * 0.001))\n",
    "                    line = match.groupdict().get('line', '')\n",
    "                    list_parsedMsg.append(line.split())\n",
    "                    # t = timedelta(seconds=seconds, microseconds=microseconds)\n",
    "                except IndexError:\n",
    "                    pass\n",
    "        \n",
    "        list_dmgFiles.append(list_parsedMsg)\n",
    "print \"Sample (First file first line): \", list_dmgFiles[0][0]"
   ]
  },
  {
   "cell_type": "code",
   "execution_count": 61,
   "metadata": {},
   "outputs": [
    {
     "name": "stdout",
     "output_type": "stream",
     "text": [
      "Start time for NetCoor:  1520876280.305089\n",
      "Start time for HostAct:  1520876280.316050\n"
     ]
    },
    {
     "data": {
      "image/png": "[encoded data removed]",
      "text/plain": [
       "<Figure size 432x288 with 1 Axes>"
      ]
     },
     "metadata": {},
     "output_type": "display_data"
    },
    {
     "name": "stdout",
     "output_type": "stream",
     "text": [
      "Start time for NetCoor:  1520876280.775960\n",
      "Start time for HostAct:  1520876280.786869\n"
     ]
    },
    {
     "data": {
      "image/png": "[encoded data removed]",
      "text/plain": [
       "<Figure size 432x288 with 1 Axes>"
      ]
     },
     "metadata": {},
     "output_type": "display_data"
    }
   ],
   "source": [
    "# Graph of pause by NC and HA: Pause time - start time\n",
    "for i, fd in enumerate(list_parsed_files):\n",
    "    start_time_NC = fd[1][\"text\"].split(': ')[1]\n",
    "    start_time_HA = fd[2][\"text\"].split(': ')[1]\n",
    "    print 'Start time for NetCoor: ', start_time_NC\n",
    "    print 'Start time for HostAct: ', start_time_HA\n",
    "    \n",
    "    x = [float(item[\"text\"].split()[1]) - float(start_time_HA) for item in fd[3:] if item[\"text\"].split()[0] == \"Host_System_pasuing:\"]\n",
    "    y = [float(item[\"text\"].split()[1]) - float(start_time_NC) for item in fd[3:] if item[\"text\"].split()[0] == \"NCProcHandler_Stop_Services:\"]\n",
    "\n",
    "    # plot\n",
    "    fig = plt.figure()\n",
    "    fig.suptitle('Pi_' + str(i+1) + ' Pausing Clock', fontsize=20)\n",
    "    plt.xlabel('Paused by Host (VT)', fontsize=16)\n",
    "    axis = plt.gca().xaxis\n",
    "    for label in axis.get_ticklabels():\n",
    "        label.set_rotation(90)\n",
    "    plt.ylabel('Paused by NetCoor', fontsize=16)\n",
    "    plt.scatter(x,y)\n",
    "    plt.show()"
   ]
  },
  {
   "cell_type": "code",
   "execution_count": null,
   "metadata": {},
   "outputs": [],
   "source": []
  }
 ],
 "metadata": {
  "kernelspec": {
   "display_name": "Python 2",
   "language": "python",
   "name": "python2"
  },
  "language_info": {
   "codemirror_mode": {
    "name": "ipython",
    "version": 2
   },
   "file_extension": ".py",
   "mimetype": "text/x-python",
   "name": "python",
   "nbconvert_exporter": "python",
   "pygments_lexer": "ipython2",
   "version": "2.7.10"
  }
 },
 "nbformat": 4,
 "nbformat_minor": 2
}
